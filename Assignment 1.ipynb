{
 "cells": [
  {
   "cell_type": "raw",
   "id": "707dd784-4c0a-431d-bb23-7ef07efcc146",
   "metadata": {},
   "source": [
    "Q1. Create one variable containing following type of data:\n",
    "\n",
    "str = \"saksham\"\n",
    "l = [2,3,4,3,5,\"saksham\",\"pwskills\",24.54,True]\n",
    "f = 74.56\n",
    "a_tuple = ('abc', 'xyz', 123, 231, 13.31, 0.1312)\n"
   ]
  },
  {
   "cell_type": "raw",
   "id": "2e88746f-2eba-4fa9-b093-4c3b851a8af8",
   "metadata": {},
   "source": [
    "Q2. Given are some following variables containing data:\n",
    "\n",
    "(i) str\n",
    "(ii) str\n",
    "(iii) list\n",
    "(iv) float\n",
    "\n"
   ]
  },
  {
   "cell_type": "raw",
   "id": "e5eb3ecd-0c60-48b5-94c1-dafa6f773d92",
   "metadata": {},
   "source": [
    "Q3. Explain the use of the following operators using an example:\n",
    "\n",
    "(i) / it is arithmetic operator used for division \n",
    "ex: a = 6 \n",
    "    b = 3\n",
    "    a/b\n",
    "    output = 2\n",
    "(ii) % it is called modulo operation \n",
    "ex:\n",
    "  a%b\n",
    "  o/p = 0\n",
    "  \n",
    "(iii) // it is called floor division operation\n",
    "ex:\n",
    "    a//b\n",
    "    o/p = 2\n",
    "    \n",
    "    \n",
    "(iv) ** it is called the power operation \n",
    "\n",
    "ex:\n",
    "   a to the power  b \n",
    "   a**b\n",
    "   o/p = 216\n",
    "\n",
    "\n"
   ]
  },
  {
   "cell_type": "raw",
   "id": "92202113-6bad-480c-8f40-6ee71997f317",
   "metadata": {},
   "source": [
    "Q4. Create a list of length 10 of your choice containing multiple types of data. Using for loop print the\n",
    "element and its data type.\n",
    "\n",
    "l = [1,2,3,4,\"saksham\",\"pwskills\",True,25.54,\"pal\",41]\n",
    "\n",
    "for i in l :\n",
    "    print(type(i))\n",
    "    print(i)"
   ]
  },
  {
   "cell_type": "raw",
   "id": "3d883cec-ac47-4e39-9ae3-13fd1c02ea1d",
   "metadata": {},
   "source": [
    "Q5. Using a while loop, verify if the number A is purely divisible by number B and if so then how many\n",
    "times it can be divisible.\n",
    "\n",
    "A = 36\n",
    "B = 6\n",
    "count = 0\n",
    "\n",
    "while A % B == 0:\n",
    "    count += 1\n",
    "    A //= B\n",
    "\n",
    "if count > 0:\n",
    "    print(f\"{A} is divisible by {B} {count} times.\")\n",
    "else:\n",
    "    print(f\"{A} is not divisible by {B}.\")\n",
    "\n"
   ]
  },
  {
   "cell_type": "raw",
   "id": "b5d10cab-274c-466a-b1c2-b64343c2cfbb",
   "metadata": {},
   "source": [
    "Q6. Create a list containing 25 int type data. Using for loop and if-else condition print if the element is\n",
    "divisible by 3 or not.\n",
    "\n",
    "\n",
    "my_list = [1,2,3,4,5,6,7,8,9,10,11,12,13,14,15,16,17,18,19,20,21,22,23,24,25]\n",
    "\n",
    "\n",
    "for i in my_list :\n",
    "    \n",
    "    if i%3==0 :\n",
    "        print(f\"{i} is divisible by 3\")\n",
    "    else :\n",
    "        print(f\"{i} is not divisible by 3\")\n"
   ]
  },
  {
   "cell_type": "raw",
   "id": "5bef70c7-ab47-4356-960e-b8177a290a04",
   "metadata": {},
   "source": [
    "Q7. What do you understand about mutable and immutable data types? Give examples for both showing\n",
    "this property.\n",
    "\n",
    "Immutable data types:\n",
    "Immutable data types are those whose value cannot be changed once they are created.\n",
    "Whenever you perform any operation on an immutable object, a new object is created with the updated value. \n",
    "Examples of immutable data types in Python include int, float, complex, bool, str, bytes, and tuple.\n",
    "\n",
    "Here's an example to illustrate the immutability of a tuple:\n",
    "\n",
    "# create a tuple\n",
    "my_tuple = (1, 2, 3)\n",
    "\n",
    "my_tuple[0] = 4 \n",
    "# this will raise a TypeError: 'tuple' object does not support item assignment\n",
    "\n",
    "\n",
    "\n",
    "\n",
    "\n",
    "\n"
   ]
  }
 ],
 "metadata": {
  "kernelspec": {
   "display_name": "Python 3 (ipykernel)",
   "language": "python",
   "name": "python3"
  },
  "language_info": {
   "codemirror_mode": {
    "name": "ipython",
    "version": 3
   },
   "file_extension": ".py",
   "mimetype": "text/x-python",
   "name": "python",
   "nbconvert_exporter": "python",
   "pygments_lexer": "ipython3",
   "version": "3.10.8"
  }
 },
 "nbformat": 4,
 "nbformat_minor": 5
}
